{
  "nbformat": 4,
  "nbformat_minor": 0,
  "metadata": {
    "colab": {
      "provenance": []
    },
    "kernelspec": {
      "name": "python3",
      "display_name": "Python 3"
    },
    "language_info": {
      "name": "python"
    }
  },
  "cells": [
    {
      "cell_type": "markdown",
      "source": [
        "# Importing relevant libraries"
      ],
      "metadata": {
        "id": "l38TCIgBhrw1"
      }
    },
    {
      "cell_type": "code",
      "execution_count": null,
      "metadata": {
        "id": "YI7mZQYFheFW"
      },
      "outputs": [],
      "source": [
        "import numpy as np\n",
        "import matplotlib.pyplot as plt\n",
        "%matplotlib inline\n",
        "\n",
        "from sklearn.metrics import confusion_matrix\n",
        "import seaborn as sns\n",
        "\n",
        "import keras\n",
        "from keras.models import Sequential\n",
        "from keras.layers import Dense, Dropout\n",
        "\n",
        "np.random.seed(0)"
      ]
    },
    {
      "cell_type": "markdown",
      "source": [
        "# Dataset Exploration"
      ],
      "metadata": {
        "id": "Bozuxi0QhuH5"
      }
    },
    {
      "cell_type": "code",
      "source": [
        "from keras.datasets import mnist\n",
        "(X_train, Y_train), (X_test, Y_test) = mnist.load_data() #X and Y are the input and target arrays respectively"
      ],
      "metadata": {
        "id": "A1GyD1GShtU9"
      },
      "execution_count": null,
      "outputs": []
    },
    {
      "cell_type": "code",
      "source": [
        "#Printing the shape of our testing and training datasets\n",
        "\n",
        "print('X_train: ' + str(X_train.shape))\n",
        "print('Y_train: ' + str(Y_train.shape))\n",
        "print('X_test:  '  + str(X_test.shape))\n",
        "print('Y_test:  '  + str(Y_test.shape))"
      ],
      "metadata": {
        "colab": {
          "base_uri": "https://localhost:8080/"
        },
        "id": "8ffmTubPh4DO",
        "outputId": "b6d473b2-60db-4b7b-caf8-d038c63d5b2c"
      },
      "execution_count": null,
      "outputs": [
        {
          "output_type": "stream",
          "name": "stdout",
          "text": [
            "X_train: (60000, 28, 28)\n",
            "Y_train: (60000,)\n",
            "X_test:  (10000, 28, 28)\n",
            "Y_test:  (10000,)\n"
          ]
        }
      ]
    },
    {
      "cell_type": "markdown",
      "source": [
        "# Visualizing the Dataset"
      ],
      "metadata": {
        "id": "ddQz4kNPiGWJ"
      }
    },
    {
      "cell_type": "code",
      "source": [
        "numofclasses = 10 #since there are 10 digits - 0, 1, 2, 3, 4, 5, 6, 7, 8, 9\n",
        "fig, axis = plt.subplots(1, numofclasses, figsize=(20,20))\n",
        "\n",
        "#We try printing 1 sample digit image for each of our 10 classes from the MNIST dataset\n",
        "\n",
        "for i in range(0, numofclasses):\n",
        "  exampleimg = X_train[Y_train == i][0]\n",
        "  axis[i].imshow(exampleimg, cmap='gray')\n",
        "  axis[i].set_title(\"Label: {} \".format(i), fontsize=16)"
      ],
      "metadata": {
        "colab": {
          "base_uri": "https://localhost:8080/",
          "height": 149
        },
        "id": "bJDBqzY0iDC3",
        "outputId": "64230d37-8bd4-4e39-eae0-0ab865467800"
      },
      "execution_count": null,
      "outputs": [
        {
          "output_type": "display_data",
          "data": {
            "text/plain": [
              "<Figure size 1440x1440 with 10 Axes>"
            ],
            "image/png": "[encoded data removed]"
          },
          "metadata": {
            "needs_background": "light"
          }
        }
      ]
    },
    {
      "cell_type": "code",
      "source": [
        "#Let us now print the first 20 digits in the target training dataset\n",
        "\n",
        "for i in range(20):\n",
        "  print(Y_train[i])"
      ],
      "metadata": {
        "colab": {
          "base_uri": "https://localhost:8080/"
        },
        "id": "JuphJxd4iKUi",
        "outputId": "19697b40-ed41-436c-eb55-53d54a29712f"
      },
      "execution_count": null,
      "outputs": [
        {
          "output_type": "stream",
          "name": "stdout",
          "text": [
            "5\n",
            "0\n",
            "4\n",
            "1\n",
            "9\n",
            "2\n",
            "1\n",
            "3\n",
            "1\n",
            "4\n",
            "3\n",
            "5\n",
            "3\n",
            "6\n",
            "1\n",
            "7\n",
            "2\n",
            "8\n",
            "6\n",
            "9\n"
          ]
        }
      ]
    },
    {
      "cell_type": "markdown",
      "source": [
        "# One Hot Encoding"
      ],
      "metadata": {
        "id": "FqLkCZfhilm_"
      }
    },
    {
      "cell_type": "code",
      "source": [
        "Y_train = keras.utils.to_categorical(Y_train, numofclasses)\n",
        "Y_test = keras.utils.to_categorical(Y_test, numofclasses)"
      ],
      "metadata": {
        "id": "X-P7CPeBiNPb"
      },
      "execution_count": null,
      "outputs": []
    },
    {
      "cell_type": "code",
      "source": [
        "for i in range(20):\n",
        "  print(Y_train[i])\n",
        "\n",
        "#We can observe that there is a '1' in the 5th index position of the first array representing a 5 and similar representations\n",
        "#corresponding to the Y_train values that were printed earlier"
      ],
      "metadata": {
        "colab": {
          "base_uri": "https://localhost:8080/"
        },
        "id": "DDZv78PliQnV",
        "outputId": "18a33188-cf9c-4cc9-8de2-e25460882c34"
      },
      "execution_count": null,
      "outputs": [
        {
          "output_type": "stream",
          "name": "stdout",
          "text": [
            "[0. 0. 0. 0. 0. 1. 0. 0. 0. 0.]\n",
            "[1. 0. 0. 0. 0. 0. 0. 0. 0. 0.]\n",
            "[0. 0. 0. 0. 1. 0. 0. 0. 0. 0.]\n",
            "[0. 1. 0. 0. 0. 0. 0. 0. 0. 0.]\n",
            "[0. 0. 0. 0. 0. 0. 0. 0. 0. 1.]\n",
            "[0. 0. 1. 0. 0. 0. 0. 0. 0. 0.]\n",
            "[0. 1. 0. 0. 0. 0. 0. 0. 0. 0.]\n",
            "[0. 0. 0. 1. 0. 0. 0. 0. 0. 0.]\n",
            "[0. 1. 0. 0. 0. 0. 0. 0. 0. 0.]\n",
            "[0. 0. 0. 0. 1. 0. 0. 0. 0. 0.]\n",
            "[0. 0. 0. 1. 0. 0. 0. 0. 0. 0.]\n",
            "[0. 0. 0. 0. 0. 1. 0. 0. 0. 0.]\n",
            "[0. 0. 0. 1. 0. 0. 0. 0. 0. 0.]\n",
            "[0. 0. 0. 0. 0. 0. 1. 0. 0. 0.]\n",
            "[0. 1. 0. 0. 0. 0. 0. 0. 0. 0.]\n",
            "[0. 0. 0. 0. 0. 0. 0. 1. 0. 0.]\n",
            "[0. 0. 1. 0. 0. 0. 0. 0. 0. 0.]\n",
            "[0. 0. 0. 0. 0. 0. 0. 0. 1. 0.]\n",
            "[0. 0. 0. 0. 0. 0. 1. 0. 0. 0.]\n",
            "[0. 0. 0. 0. 0. 0. 0. 0. 0. 1.]\n"
          ]
        }
      ]
    },
    {
      "cell_type": "markdown",
      "source": [
        "# Data Preprocessing\n",
        "\n",
        "We need to **normalize** the dataset as the pixel values range from 0 to 255. Transforming the values to one in the range of 0 and 1 will help optimise the model’s learning algorithm like gradient descent. Having similar values will help the gradient descent algorithm reach the minima faster.\n",
        "\n",
        "We need to reshape the dataset as currently it's a 3-dimensional dataset and we need to flatten the 28x28 dimensions of MNIST images into one dimension (value here = 784) so we can run it through a neural network"
      ],
      "metadata": {
        "id": "mvszmJrAiUCt"
      }
    },
    {
      "cell_type": "code",
      "source": [
        "#Normalization\n",
        "\n",
        "X_train = X_train / 255.0\n",
        "X_test = X_test / 255.0"
      ],
      "metadata": {
        "id": "byrv-IyViV2l"
      },
      "execution_count": null,
      "outputs": []
    },
    {
      "cell_type": "code",
      "source": [
        "#Reshaping of the Data\n",
        "\n",
        "X_train = X_train.reshape(X_train.shape[0], -1)\n",
        "X_test = X_test.reshape(X_test.shape[0], -1)\n",
        "print(X_train.shape)"
      ],
      "metadata": {
        "colab": {
          "base_uri": "https://localhost:8080/"
        },
        "id": "r4a7M7NPiYDe",
        "outputId": "457b1af9-e1c3-4eb1-fbbb-4dc750b1ec28"
      },
      "execution_count": null,
      "outputs": [
        {
          "output_type": "stream",
          "name": "stdout",
          "text": [
            "(60000, 784)\n"
          ]
        }
      ]
    },
    {
      "cell_type": "markdown",
      "source": [
        "# Building the Neural Network\n",
        "\n",
        "We build a simple Neural Network model with 2 hidden layers. The first input layer has a ReLU activation function, the second layer is a hidden layer with ReLU activation as well, the third layer is a dropout layer (it drops 25% of the neurons to prevent overfitting) and finally the final layer has a softmax activation function that assigns probabilities to classes.\n",
        "\n",
        "We compile the model and use a categorical cross entropy loss function for the same which is the most common loss function used in these models. The optimizer is an Adam optimizer, again most suited for such tasks and models and our model metric is accuracy."
      ],
      "metadata": {
        "id": "vRsnNWAsiVDE"
      }
    },
    {
      "cell_type": "code",
      "source": [
        "model = Sequential()\n",
        "\n",
        "model.add(Dense(units=128, input_shape=(784,), activation='relu'))\n",
        "model.add(Dense(units=128, activation='relu'))\n",
        "model.add(Dropout(0.25))\n",
        "model.add(Dense(units=10, activation='softmax'))\n",
        "\n",
        "model.compile(loss='categorical_crossentropy', optimizer='adam', metrics=['accuracy'])"
      ],
      "metadata": {
        "id": "UK9QjyLSifMu"
      },
      "execution_count": null,
      "outputs": []
    },
    {
      "cell_type": "code",
      "source": [
        "model.summary()"
      ],
      "metadata": {
        "colab": {
          "base_uri": "https://localhost:8080/"
        },
        "id": "lbSvZ_LRPL52",
        "outputId": "04dfd1d2-3213-4b49-b618-3ca960263ff6"
      },
      "execution_count": null,
      "outputs": [
        {
          "output_type": "stream",
          "name": "stdout",
          "text": [
            "Model: \"sequential_2\"\n",
            "_________________________________________________________________\n",
            " Layer (type)                Output Shape              Param #   \n",
            "=================================================================\n",
            " dense_6 (Dense)             (None, 128)               100480    \n",
            "                                                                 \n",
            " dense_7 (Dense)             (None, 128)               16512     \n",
            "                                                                 \n",
            " dropout_2 (Dropout)         (None, 128)               0         \n",
            "                                                                 \n",
            " dense_8 (Dense)             (None, 10)                1290      \n",
            "                                                                 \n",
            "=================================================================\n",
            "Total params: 118,282\n",
            "Trainable params: 118,282\n",
            "Non-trainable params: 0\n",
            "_________________________________________________________________\n"
          ]
        }
      ]
    },
    {
      "cell_type": "code",
      "source": [
        "# from keras.utils import to_categorical, plot_model\n",
        "\n",
        "# plot_model(model, to_file='mlp-mnist.png', show_shapes=True, show_layer_activations=True)"
      ],
      "metadata": {
        "colab": {
          "base_uri": "https://localhost:8080/",
          "height": 533
        },
        "id": "gZA0TDjYSzIk",
        "outputId": "b8bd7bfa-4581-44f7-d60a-895cf4043bf7"
      },
      "execution_count": null,
      "outputs": [
        {
          "output_type": "execute_result",
          "data": {
            "image/png": "[encoded data removed]",
            "text/plain": [
              "<IPython.core.display.Image object>"
            ]
          },
          "metadata": {},
          "execution_count": 69
        }
      ]
    },
    {
      "cell_type": "code",
      "source": [
        "!pip install pydot\n",
        "!pip install pydot_ng\n",
        "!pip install graphviz"
      ],
      "metadata": {
        "colab": {
          "base_uri": "https://localhost:8080/"
        },
        "id": "Errhq9jNTij_",
        "outputId": "41ebbf73-043e-4df3-e7ec-1a5deb4de252"
      },
      "execution_count": null,
      "outputs": [
        {
          "output_type": "stream",
          "name": "stdout",
          "text": [
            "Looking in indexes: https://pypi.org/simple, https://us-python.pkg.dev/colab-wheels/public/simple/\n",
            "Requirement already satisfied: pydot in /usr/local/lib/python3.8/dist-packages (1.3.0)\n",
            "Requirement already satisfied: pyparsing>=2.1.4 in /usr/local/lib/python3.8/dist-packages (from pydot) (3.0.9)\n",
            "Looking in indexes: https://pypi.org/simple, https://us-python.pkg.dev/colab-wheels/public/simple/\n",
            "Requirement already satisfied: pydot_ng in /usr/local/lib/python3.8/dist-packages (2.0.0)\n",
            "Requirement already satisfied: pyparsing>=2.0.1 in /usr/local/lib/python3.8/dist-packages (from pydot_ng) (3.0.9)\n",
            "Looking in indexes: https://pypi.org/simple, https://us-python.pkg.dev/colab-wheels/public/simple/\n",
            "Requirement already satisfied: graphviz in /usr/local/lib/python3.8/dist-packages (0.10.1)\n"
          ]
        }
      ]
    },
    {
      "cell_type": "code",
      "source": [
        "!pip install plot-model"
      ],
      "metadata": {
        "colab": {
          "base_uri": "https://localhost:8080/"
        },
        "id": "xepuQ9oUToqU",
        "outputId": "df8e03de-9c78-4a05-ebe9-94cdd065d7c9"
      },
      "execution_count": null,
      "outputs": [
        {
          "output_type": "stream",
          "name": "stdout",
          "text": [
            "Looking in indexes: https://pypi.org/simple, https://us-python.pkg.dev/colab-wheels/public/simple/\n",
            "Requirement already satisfied: plot-model in /usr/local/lib/python3.8/dist-packages (0.20)\n"
          ]
        }
      ]
    },
    {
      "cell_type": "markdown",
      "source": [
        "# Training"
      ],
      "metadata": {
        "id": "sY3qbtrui_0E"
      }
    },
    {
      "cell_type": "code",
      "source": [
        "batch_size = 512\n",
        "num_epochs=10\n",
        "\n",
        "#We will now train our model on the training and target datasets according to the chosen batch size\n",
        "#as well as number of epochs defined\n",
        "\n",
        "model.fit(x=X_train, y=Y_train, batch_size=batch_size, epochs=num_epochs)"
      ],
      "metadata": {
        "colab": {
          "base_uri": "https://localhost:8080/"
        },
        "id": "y2axp8kHi5AC",
        "outputId": "83a7d1c6-7559-4789-a460-5654f1e7e198"
      },
      "execution_count": null,
      "outputs": [
        {
          "output_type": "stream",
          "name": "stdout",
          "text": [
            "Epoch 1/10\n",
            "118/118 [==============================] - 1s 11ms/step - loss: 0.4373 - accuracy: 0.8700\n",
            "Epoch 2/10\n",
            "118/118 [==============================] - 1s 11ms/step - loss: 0.4386 - accuracy: 0.8697\n",
            "Epoch 3/10\n",
            "118/118 [==============================] - 1s 11ms/step - loss: 0.4308 - accuracy: 0.8716\n",
            "Epoch 4/10\n",
            "118/118 [==============================] - 1s 11ms/step - loss: 0.4279 - accuracy: 0.8724\n",
            "Epoch 5/10\n",
            "118/118 [==============================] - 1s 11ms/step - loss: 0.4212 - accuracy: 0.8740\n",
            "Epoch 6/10\n",
            "118/118 [==============================] - 1s 11ms/step - loss: 0.4208 - accuracy: 0.8741\n",
            "Epoch 7/10\n",
            "118/118 [==============================] - 1s 11ms/step - loss: 0.4185 - accuracy: 0.8755\n",
            "Epoch 8/10\n",
            "118/118 [==============================] - 1s 11ms/step - loss: 0.4153 - accuracy: 0.8776\n",
            "Epoch 9/10\n",
            "118/118 [==============================] - 1s 11ms/step - loss: 0.4115 - accuracy: 0.8787\n",
            "Epoch 10/10\n",
            "118/118 [==============================] - 1s 11ms/step - loss: 0.4109 - accuracy: 0.8772\n"
          ]
        },
        {
          "output_type": "execute_result",
          "data": {
            "text/plain": [
              "<keras.callbacks.History at 0x7fcc8331b0a0>"
            ]
          },
          "metadata": {},
          "execution_count": 115
        }
      ]
    },
    {
      "cell_type": "markdown",
      "source": [
        "# Evaluation"
      ],
      "metadata": {
        "id": "hV5CbV2mjttS"
      }
    },
    {
      "cell_type": "markdown",
      "source": [
        "Let us print the acccuracy and loss of the model on the test set to evaluate its competence"
      ],
      "metadata": {
        "id": "mST91rwFwmV-"
      }
    },
    {
      "cell_type": "code",
      "source": [
        "test_loss, test_acc = model.evaluate(X_test, Y_test)\n",
        "print(\"Test Loss: {}, Test Accuracy: {}\".format(test_loss, test_acc))"
      ],
      "metadata": {
        "colab": {
          "base_uri": "https://localhost:8080/"
        },
        "id": "hQyAUWOEjBDd",
        "outputId": "4567233d-a81b-4a47-99d7-47a7fd3d7fd7"
      },
      "execution_count": null,
      "outputs": [
        {
          "output_type": "stream",
          "name": "stdout",
          "text": [
            "313/313 [==============================] - 1s 5ms/step - loss: 0.0649 - accuracy: 0.9787\n",
            "Test Loss: 0.06489930301904678, Test Accuracy: 0.9786999821662903\n"
          ]
        }
      ]
    },
    {
      "cell_type": "code",
      "source": [
        "#Here we print the prediction probabilities to see how the model assigns probabilities to various classes for an image and then\n",
        "#predicts a class for it on the basis of the class assigned the highest probability\n",
        "\n",
        "Y_pred = model.predict(X_test)\n",
        "Ypredclasses = np.argmax(Y_pred, axis=1)\n",
        "print(Y_pred)\n",
        "print(Ypredclasses)"
      ],
      "metadata": {
        "colab": {
          "base_uri": "https://localhost:8080/"
        },
        "id": "TE-9PV9ljpbG",
        "outputId": "69c0c6b3-4e27-45e5-e09f-126a4da4719d"
      },
      "execution_count": null,
      "outputs": [
        {
          "output_type": "stream",
          "name": "stdout",
          "text": [
            "313/313 [==============================] - 1s 2ms/step\n",
            "[[3.26783374e-05 6.20462697e-06 1.74659421e-04 ... 9.91957784e-01\n",
            "  5.04074596e-05 4.53438796e-03]\n",
            " [1.16460964e-04 2.00949400e-03 9.66682971e-01 ... 1.86005323e-07\n",
            "  5.73653029e-03 1.01099591e-08]\n",
            " [3.44161748e-07 9.83441949e-01 7.83394836e-03 ... 1.81399682e-03\n",
            "  1.81716017e-03 2.29613972e-04]\n",
            " ...\n",
            " [9.19465856e-06 1.36695802e-03 2.94597587e-04 ... 4.29847231e-03\n",
            "  3.78540903e-02 4.21533644e-01]\n",
            " [3.94385960e-03 1.14098145e-03 8.88468407e-04 ... 1.87847818e-05\n",
            "  1.91796795e-01 1.09215081e-03]\n",
            " [1.56269045e-04 1.23255887e-07 2.11070408e-03 ... 2.13078177e-09\n",
            "  5.17977351e-05 6.13131988e-07]]\n",
            "[7 2 1 ... 4 5 6]\n"
          ]
        }
      ]
    },
    {
      "cell_type": "code",
      "source": [
        "#We want to print the correct prediction of the model for any given image in the dataset as well as visualise what the image looks like\n",
        "\n",
        "idrand = np.random.choice(len(X_test))\n",
        "X_example = X_test[idrand]\n",
        "Y_true = np.argmax(Y_test, axis=1)\n",
        "Y_example_true = Y_true[idrand]\n",
        "Y_example_pred_class = Ypredclasses[idrand]\n",
        "\n",
        "plt.title(\"Predicted Label: {}, True Label: {}\".format(Y_example_pred_class, Y_example_true), fontsize=16)\n",
        "plt.imshow(X_example.reshape(28, 28), cmap='gray')"
      ],
      "metadata": {
        "colab": {
          "base_uri": "https://localhost:8080/",
          "height": 303
        },
        "id": "bU8WBZGNj749",
        "outputId": "f9a35992-be9d-4248-e6a3-787ee2357138"
      },
      "execution_count": null,
      "outputs": [
        {
          "output_type": "execute_result",
          "data": {
            "text/plain": [
              "<matplotlib.image.AxesImage at 0x7fcc80f574f0>"
            ]
          },
          "metadata": {},
          "execution_count": 97
        },
        {
          "output_type": "display_data",
          "data": {
            "text/plain": [
              "<Figure size 432x288 with 1 Axes>"
            ],
            "image/png": "[encoded data removed]"
          },
          "metadata": {}
        }
      ]
    },
    {
      "cell_type": "markdown",
      "source": [
        "# Confusion Matrix"
      ],
      "metadata": {
        "id": "RWX2DjHskI6i"
      }
    },
    {
      "cell_type": "code",
      "source": [
        "confmatrix = confusion_matrix(Y_true, Ypredclasses)\n",
        "\n",
        "#Let us now plot the confusion matrix for this model\n",
        "fig, ax = plt.subplots(figsize=(10,8))\n",
        "ax = sns.heatmap(confmatrix, annot=True, fmt='d', ax=ax, cmap=\"Blues\")\n",
        "ax.set_xlabel('Predicted Label')\n",
        "ax.set_ylabel('True Label')"
      ],
      "metadata": {
        "colab": {
          "base_uri": "https://localhost:8080/",
          "height": 519
        },
        "id": "y27X_jOSkIk9",
        "outputId": "15c4c9ed-042d-49ad-e87e-bd289f48e279"
      },
      "execution_count": null,
      "outputs": [
        {
          "output_type": "execute_result",
          "data": {
            "text/plain": [
              "Text(66.5, 0.5, 'True Label')"
            ]
          },
          "metadata": {},
          "execution_count": 118
        },
        {
          "output_type": "display_data",
          "data": {
            "text/plain": [
              "<Figure size 720x576 with 2 Axes>"
            ],
            "image/png": "[encoded data removed]"
          },
          "metadata": {}
        }
      ]
    },
    {
      "cell_type": "markdown",
      "source": [
        "# Checking Erroneous Predictions"
      ],
      "metadata": {
        "id": "a7xv1JP-kaeo"
      }
    },
    {
      "cell_type": "markdown",
      "source": [
        "It is essential for us to also check erroneous predictions made by our model as well as visualise them to see what kind of images the model is confused by"
      ],
      "metadata": {
        "id": "ykMKqzqcxQOa"
      }
    },
    {
      "cell_type": "code",
      "source": [
        "num_errors = (Ypredclasses - Y_true != 0) #this stores the number of erroneous predictions the model made\n",
        "Ypredclasserrors = Ypredclasses[num_errors]\n",
        "Yprederrors = Y_pred[num_errors]\n",
        "Ytrueerrors = Y_true[num_errors]\n",
        "Xtesterrors = X_test[num_errors]"
      ],
      "metadata": {
        "id": "alr8iS6-kbc0"
      },
      "execution_count": null,
      "outputs": []
    },
    {
      "cell_type": "code",
      "source": [
        "Yprederrorsprob = np.max(Yprederrors, axis=1)\n",
        "true_prob_errors = np.diagonal(np.take(Yprederrors, Ytrueerrors, axis=1))\n",
        "diffpredtrueerrors = Yprederrorsprob - true_prob_errors\n",
        "\n",
        "# We want to obtain the list of indices of sorted differences\n",
        "sorteddifferrorsid = np.argsort(diffpredtrueerrors)\n",
        "errorsidlist = sorteddifferrorsid[-5:] # Storing last 5 erroneous predictions"
      ],
      "metadata": {
        "id": "pbC6SO4qkkaH"
      },
      "execution_count": null,
      "outputs": []
    },
    {
      "cell_type": "code",
      "source": [
        "# Visualisation\n",
        "num = len(errorsidlist)\n",
        "f, ax = plt.subplots(1, num, figsize=(30,30))\n",
        "\n",
        "for i in range(0, num):\n",
        "  index = errorsidlist[i]\n",
        "  sample = Xtesterrors[index].reshape(28,28)\n",
        "  Y_t = Ytrueerrors[index]\n",
        "  Y_p = Ypredclasserrors[index]\n",
        "  ax[i].imshow(sample, cmap='gray')\n",
        "  ax[i].set_title(\"Predicted Label : {}\\nTrue Label : {}\".format(Y_p, Y_t), fontsize=22)"
      ],
      "metadata": {
        "colab": {
          "base_uri": "https://localhost:8080/",
          "height": 245
        },
        "id": "Gs9TG9LZkn37",
        "outputId": "e3a43c5f-d3ca-41c5-8030-1866aeac5031"
      },
      "execution_count": null,
      "outputs": [
        {
          "output_type": "display_data",
          "data": {
            "text/plain": [
              "<Figure size 2160x2160 with 5 Axes>"
            ],
            "image/png": "[encoded data removed]"
          },
          "metadata": {}
        }
      ]
    },
    {
      "cell_type": "markdown",
      "source": [
        "# Validation"
      ],
      "metadata": {
        "id": "PzJNi4Del9TB"
      }
    },
    {
      "cell_type": "code",
      "source": [
        "from sklearn.model_selection import train_test_split\n",
        "from sklearn.preprocessing import normalize\n",
        "from sklearn.metrics import classification_report\n",
        "from sklearn.model_selection import KFold\n",
        "from keras.wrappers.scikit_learn import KerasClassifier"
      ],
      "metadata": {
        "id": "wfgy4hddoyyx"
      },
      "execution_count": null,
      "outputs": []
    },
    {
      "cell_type": "code",
      "source": [
        "folds = 5 # We are performing 5-fold cross validation"
      ],
      "metadata": {
        "id": "6nm7X9X1rV7J"
      },
      "execution_count": null,
      "outputs": []
    },
    {
      "cell_type": "code",
      "source": [
        "# Normalization of data\n",
        "X_train = X_train / 255\n",
        "X_test = X_test / 255"
      ],
      "metadata": {
        "id": "HCCtiCP7rZI2"
      },
      "execution_count": null,
      "outputs": []
    },
    {
      "cell_type": "code",
      "source": [
        "# We will define containers that will store scores for every fold.\n",
        "# Scores includes both the accuracy of the model as well as loss per fold\n",
        "\n",
        "accfold = []\n",
        "lossfold = []"
      ],
      "metadata": {
        "id": "6QNLgXj2x46N"
      },
      "execution_count": null,
      "outputs": []
    },
    {
      "cell_type": "code",
      "source": [
        "# Merging the inputs and targets arrays\n",
        "\n",
        "inputarr = np.concatenate((X_train, X_test), axis=0)\n",
        "targetarr = np.concatenate((Y_train, Y_test), axis=0)"
      ],
      "metadata": {
        "id": "b7R49oJprhWt"
      },
      "execution_count": null,
      "outputs": []
    },
    {
      "cell_type": "code",
      "source": [
        "k_fold_valid = KFold(n_splits=folds, shuffle=True)"
      ],
      "metadata": {
        "id": "WqX8N7Ojr88C"
      },
      "execution_count": null,
      "outputs": []
    },
    {
      "cell_type": "code",
      "source": [
        "# Evaluation of a 5-fold Cross Validation model\n",
        "\n",
        "curr_fold = 1\n",
        "\n",
        "for train, test in k_fold_valid.split(inputarr, targetarr):\n",
        "\n",
        "  print('------------------------------------------------------------------------')\n",
        "  print(f'Training neural network for fold {curr_fold} ...')\n",
        "\n",
        "  # Fit the data to our model according to specifications\n",
        "\n",
        "  history = model.fit(inputarr[train], targetarr[train],\n",
        "              batch_size=batch_size,\n",
        "              epochs=num_epochs)\n",
        "\n",
        "  # Now we generate our generalization metrics and store the scores of the model for all folds\n",
        "\n",
        "  scores = model.evaluate(inputarr[test], targetarr[test], verbose=0)\n",
        "  print(f'Score for fold {curr_fold}: {model.metrics_names[0]} of {scores[0]}; {model.metrics_names[1]} of {scores[1]*100}%')\n",
        "  accfold.append(scores[1] * 100)\n",
        "  lossfold.append(scores[0])\n",
        "\n",
        "  # Increment the current fold index\n",
        "\n",
        "  curr_fold = curr_fold + 1"
      ],
      "metadata": {
        "colab": {
          "base_uri": "https://localhost:8080/"
        },
        "id": "PHyTcKbyrvXW",
        "outputId": "5e105edd-e417-4bae-e51b-da3865e249bc"
      },
      "execution_count": null,
      "outputs": [
        {
          "output_type": "stream",
          "name": "stdout",
          "text": [
            "------------------------------------------------------------------------\n",
            "Training neural network for fold 1 ...\n",
            "Epoch 1/15\n",
            "110/110 [==============================] - 1s 11ms/step - loss: 2.3951 - accuracy: 0.1284\n",
            "Epoch 2/15\n",
            "110/110 [==============================] - 1s 11ms/step - loss: 2.2779 - accuracy: 0.1447\n",
            "Epoch 3/15\n",
            "110/110 [==============================] - 1s 11ms/step - loss: 2.2757 - accuracy: 0.1499\n",
            "Epoch 4/15\n",
            "110/110 [==============================] - 2s 18ms/step - loss: 2.2738 - accuracy: 0.1522\n",
            "Epoch 5/15\n",
            "110/110 [==============================] - 2s 17ms/step - loss: 2.2707 - accuracy: 0.1565\n",
            "Epoch 6/15\n",
            "110/110 [==============================] - 1s 11ms/step - loss: 2.2676 - accuracy: 0.1632\n",
            "Epoch 7/15\n",
            "110/110 [==============================] - 2s 16ms/step - loss: 2.2642 - accuracy: 0.1643\n",
            "Epoch 8/15\n",
            "110/110 [==============================] - 2s 16ms/step - loss: 2.2581 - accuracy: 0.1745\n",
            "Epoch 9/15\n",
            "110/110 [==============================] - 1s 11ms/step - loss: 2.2493 - accuracy: 0.1977\n",
            "Epoch 10/15\n",
            "110/110 [==============================] - 1s 11ms/step - loss: 2.2464 - accuracy: 0.1934\n",
            "Epoch 11/15\n",
            "110/110 [==============================] - 1s 11ms/step - loss: 2.2323 - accuracy: 0.2169\n",
            "Epoch 12/15\n",
            "110/110 [==============================] - 1s 11ms/step - loss: 2.2234 - accuracy: 0.2317\n",
            "Epoch 13/15\n",
            "110/110 [==============================] - 1s 11ms/step - loss: 2.2110 - accuracy: 0.2537\n",
            "Epoch 14/15\n",
            "110/110 [==============================] - 1s 11ms/step - loss: 2.1950 - accuracy: 0.2748\n",
            "Epoch 15/15\n",
            "110/110 [==============================] - 1s 11ms/step - loss: 2.1758 - accuracy: 0.2943\n",
            "Score for fold 1: loss of 2.160520076751709; accuracy of 42.978572845458984%\n",
            "------------------------------------------------------------------------\n",
            "Training neural network for fold 2 ...\n",
            "Epoch 1/15\n",
            "110/110 [==============================] - 1s 11ms/step - loss: 2.1539 - accuracy: 0.2937\n",
            "Epoch 2/15\n",
            "110/110 [==============================] - 1s 11ms/step - loss: 2.1274 - accuracy: 0.3384\n",
            "Epoch 3/15\n",
            "110/110 [==============================] - 1s 11ms/step - loss: 2.0961 - accuracy: 0.3582\n",
            "Epoch 4/15\n",
            "110/110 [==============================] - 1s 11ms/step - loss: 2.0642 - accuracy: 0.3552\n",
            "Epoch 5/15\n",
            "110/110 [==============================] - 1s 11ms/step - loss: 2.0228 - accuracy: 0.3784\n",
            "Epoch 6/15\n",
            "110/110 [==============================] - 1s 11ms/step - loss: 1.9768 - accuracy: 0.3966\n",
            "Epoch 7/15\n",
            "110/110 [==============================] - 1s 11ms/step - loss: 1.9243 - accuracy: 0.4248\n",
            "Epoch 8/15\n",
            "110/110 [==============================] - 1s 11ms/step - loss: 1.8634 - accuracy: 0.4641\n",
            "Epoch 9/15\n",
            "110/110 [==============================] - 1s 11ms/step - loss: 1.8139 - accuracy: 0.4673\n",
            "Epoch 10/15\n",
            "110/110 [==============================] - 1s 11ms/step - loss: 1.7439 - accuracy: 0.5117\n",
            "Epoch 11/15\n",
            "110/110 [==============================] - 1s 11ms/step - loss: 1.6748 - accuracy: 0.5361\n",
            "Epoch 12/15\n",
            "110/110 [==============================] - 1s 11ms/step - loss: 1.6058 - accuracy: 0.5633\n",
            "Epoch 13/15\n",
            "110/110 [==============================] - 1s 12ms/step - loss: 1.5494 - accuracy: 0.5619\n",
            "Epoch 14/15\n",
            "110/110 [==============================] - 1s 12ms/step - loss: 1.4756 - accuracy: 0.5925\n",
            "Epoch 15/15\n",
            "110/110 [==============================] - 1s 11ms/step - loss: 1.4091 - accuracy: 0.6059\n",
            "Score for fold 2: loss of 1.3701369762420654; accuracy of 66.28571152687073%\n",
            "------------------------------------------------------------------------\n",
            "Training neural network for fold 3 ...\n",
            "Epoch 1/15\n",
            "110/110 [==============================] - 1s 12ms/step - loss: 1.3448 - accuracy: 0.6257\n",
            "Epoch 2/15\n",
            "110/110 [==============================] - 1s 12ms/step - loss: 1.2830 - accuracy: 0.6401\n",
            "Epoch 3/15\n",
            "110/110 [==============================] - 1s 11ms/step - loss: 1.2271 - accuracy: 0.6511\n",
            "Epoch 4/15\n",
            "110/110 [==============================] - 1s 12ms/step - loss: 1.1642 - accuracy: 0.6745\n",
            "Epoch 5/15\n",
            "110/110 [==============================] - 1s 12ms/step - loss: 1.1161 - accuracy: 0.6848\n",
            "Epoch 6/15\n",
            "110/110 [==============================] - 1s 11ms/step - loss: 1.0699 - accuracy: 0.6928\n",
            "Epoch 7/15\n",
            "110/110 [==============================] - 1s 11ms/step - loss: 1.0254 - accuracy: 0.7055\n",
            "Epoch 8/15\n",
            "110/110 [==============================] - 1s 12ms/step - loss: 0.9868 - accuracy: 0.7161\n",
            "Epoch 9/15\n",
            "110/110 [==============================] - 1s 11ms/step - loss: 0.9506 - accuracy: 0.7254\n",
            "Epoch 10/15\n",
            "110/110 [==============================] - 1s 11ms/step - loss: 0.9182 - accuracy: 0.7335\n",
            "Epoch 11/15\n",
            "110/110 [==============================] - 1s 11ms/step - loss: 0.8959 - accuracy: 0.7363\n",
            "Epoch 12/15\n",
            "110/110 [==============================] - 1s 11ms/step - loss: 0.8599 - accuracy: 0.7501\n",
            "Epoch 13/15\n",
            "110/110 [==============================] - 1s 11ms/step - loss: 0.8319 - accuracy: 0.7582\n",
            "Epoch 14/15\n",
            "110/110 [==============================] - 1s 12ms/step - loss: 0.8088 - accuracy: 0.7644\n",
            "Epoch 15/15\n",
            "110/110 [==============================] - 1s 11ms/step - loss: 0.7922 - accuracy: 0.7638\n",
            "Score for fold 3: loss of 0.7338833808898926; accuracy of 80.02856969833374%\n",
            "------------------------------------------------------------------------\n",
            "Training neural network for fold 4 ...\n",
            "Epoch 1/15\n",
            "110/110 [==============================] - 1s 12ms/step - loss: 0.7755 - accuracy: 0.7703\n",
            "Epoch 2/15\n",
            "110/110 [==============================] - 1s 11ms/step - loss: 0.7483 - accuracy: 0.7802\n",
            "Epoch 3/15\n",
            "110/110 [==============================] - 1s 11ms/step - loss: 0.7289 - accuracy: 0.7852\n",
            "Epoch 4/15\n",
            "110/110 [==============================] - 1s 11ms/step - loss: 0.7118 - accuracy: 0.7932\n",
            "Epoch 5/15\n",
            "110/110 [==============================] - 1s 11ms/step - loss: 0.6972 - accuracy: 0.7963\n",
            "Epoch 6/15\n",
            "110/110 [==============================] - 1s 12ms/step - loss: 0.6834 - accuracy: 0.7993\n",
            "Epoch 7/15\n",
            "110/110 [==============================] - 2s 14ms/step - loss: 0.6658 - accuracy: 0.8044\n",
            "Epoch 8/15\n",
            "110/110 [==============================] - 2s 19ms/step - loss: 0.6551 - accuracy: 0.8080\n",
            "Epoch 9/15\n",
            "110/110 [==============================] - 1s 12ms/step - loss: 0.6422 - accuracy: 0.8119\n",
            "Epoch 10/15\n",
            "110/110 [==============================] - 1s 11ms/step - loss: 0.6283 - accuracy: 0.8163\n",
            "Epoch 11/15\n",
            "110/110 [==============================] - 1s 11ms/step - loss: 0.6133 - accuracy: 0.8211\n",
            "Epoch 12/15\n",
            "110/110 [==============================] - 1s 11ms/step - loss: 0.5980 - accuracy: 0.8276\n",
            "Epoch 13/15\n",
            "110/110 [==============================] - 1s 11ms/step - loss: 0.5877 - accuracy: 0.8302\n",
            "Epoch 14/15\n",
            "110/110 [==============================] - 1s 11ms/step - loss: 0.5834 - accuracy: 0.8282\n",
            "Epoch 15/15\n",
            "110/110 [==============================] - 1s 11ms/step - loss: 0.5733 - accuracy: 0.8321\n",
            "Score for fold 4: loss of 0.5222491025924683; accuracy of 84.77857112884521%\n",
            "------------------------------------------------------------------------\n",
            "Training neural network for fold 5 ...\n",
            "Epoch 1/15\n",
            "110/110 [==============================] - 1s 12ms/step - loss: 0.5755 - accuracy: 0.8266\n",
            "Epoch 2/15\n",
            "110/110 [==============================] - 1s 11ms/step - loss: 0.5601 - accuracy: 0.8345\n",
            "Epoch 3/15\n",
            "110/110 [==============================] - 1s 11ms/step - loss: 0.5605 - accuracy: 0.8322\n",
            "Epoch 4/15\n",
            "110/110 [==============================] - 1s 11ms/step - loss: 0.5339 - accuracy: 0.8431\n",
            "Epoch 5/15\n",
            "110/110 [==============================] - 1s 12ms/step - loss: 0.5290 - accuracy: 0.8439\n",
            "Epoch 6/15\n",
            "110/110 [==============================] - 1s 11ms/step - loss: 0.5299 - accuracy: 0.8417\n",
            "Epoch 7/15\n",
            "110/110 [==============================] - 1s 11ms/step - loss: 0.5138 - accuracy: 0.8476\n",
            "Epoch 8/15\n",
            "110/110 [==============================] - 1s 12ms/step - loss: 0.5178 - accuracy: 0.8460\n",
            "Epoch 9/15\n",
            "110/110 [==============================] - 1s 12ms/step - loss: 0.5098 - accuracy: 0.8469\n",
            "Epoch 10/15\n",
            "110/110 [==============================] - 1s 11ms/step - loss: 0.4968 - accuracy: 0.8538\n",
            "Epoch 11/15\n",
            "110/110 [==============================] - 1s 12ms/step - loss: 0.4922 - accuracy: 0.8550\n",
            "Epoch 12/15\n",
            "110/110 [==============================] - 1s 11ms/step - loss: 0.4948 - accuracy: 0.8526\n",
            "Epoch 13/15\n",
            "110/110 [==============================] - 1s 12ms/step - loss: 0.4818 - accuracy: 0.8567\n",
            "Epoch 14/15\n",
            "110/110 [==============================] - 1s 11ms/step - loss: 0.4771 - accuracy: 0.8574\n",
            "Epoch 15/15\n",
            "110/110 [==============================] - 1s 12ms/step - loss: 0.4835 - accuracy: 0.8549\n",
            "Score for fold 5: loss of 0.42469146847724915; accuracy of 88.17142844200134%\n"
          ]
        }
      ]
    },
    {
      "cell_type": "code",
      "source": [
        "accfold"
      ],
      "metadata": {
        "colab": {
          "base_uri": "https://localhost:8080/"
        },
        "id": "HhCLXBJcttBZ",
        "outputId": "69d86692-f112-4bcd-c6d3-fdc1f0244f04"
      },
      "execution_count": null,
      "outputs": [
        {
          "output_type": "execute_result",
          "data": {
            "text/plain": [
              "[89.40714001655579,\n",
              " 93.07143092155457,\n",
              " 95.36428451538086,\n",
              " 96.49999737739563,\n",
              " 97.45000004768372]"
            ]
          },
          "metadata": {},
          "execution_count": 65
        }
      ]
    },
    {
      "cell_type": "code",
      "source": [
        "sns.set()\n",
        "\n",
        "bar = sns.barplot(x=np.array([0,1,2,3,4]),y=accfold)\n",
        "bar.set_ylim([85,100])\n",
        "bar.set_title(\"5-fold Cross Validation on MNIST Dataset\")\n",
        "bar.set_ylabel(\"Accuracy\")\n",
        "_= bar.set_xlabel(\"Fold Index\")"
      ],
      "metadata": {
        "colab": {
          "base_uri": "https://localhost:8080/",
          "height": 301
        },
        "id": "g2dhx5E2s4Wp",
        "outputId": "f58dc20e-6f5e-442f-d6c0-bf228d8df4f4"
      },
      "execution_count": null,
      "outputs": [
        {
          "output_type": "display_data",
          "data": {
            "text/plain": [
              "<Figure size 432x288 with 1 Axes>"
            ],
            "image/png": "[encoded data removed]"
          },
          "metadata": {}
        }
      ]
    },
    {
      "cell_type": "code",
      "source": [
        "loss, acc = model.evaluate(X_test, Y_test)"
      ],
      "metadata": {
        "colab": {
          "base_uri": "https://localhost:8080/"
        },
        "id": "5O5MLJPDbKq2",
        "outputId": "b23d7b66-db2b-41e5-f9ed-ede2fb566741"
      },
      "execution_count": null,
      "outputs": [
        {
          "output_type": "stream",
          "name": "stdout",
          "text": [
            "313/313 [==============================] - 1s 2ms/step - loss: 0.0720 - accuracy: 0.9790\n"
          ]
        }
      ]
    },
    {
      "cell_type": "code",
      "source": [
        "# fig, ax = plt.subplots(1,2, figsize = (18,6))\n",
        "# ax[0].plot(history.history['loss'], label=\"Training Loss\")\n",
        "# ax[0].plot(history.history['val_loss'], label=\"val Loss\")\n",
        "\n",
        "# legend = ax[0].legend(loc='best', shadow=True)\n",
        "\n",
        "# ax[1].plot(history.history['accuracy'], label=\"Training Accuracy\")\n",
        "# ax[1].plot(history.history['val_accuracy'], label=\"Val Accuracy\")\n",
        "\n",
        "# legend = ax[1].legend(loc='best', shadow=True)"
      ],
      "metadata": {
        "id": "2w80NfYxZ17s"
      },
      "execution_count": null,
      "outputs": []
    },
    {
      "cell_type": "code",
      "source": [
        "history.history"
      ],
      "metadata": {
        "colab": {
          "base_uri": "https://localhost:8080/"
        },
        "id": "s-Zquar8bnUT",
        "outputId": "cef1a34b-288a-4e75-e9af-1f504406d706"
      },
      "execution_count": null,
      "outputs": [
        {
          "output_type": "execute_result",
          "data": {
            "text/plain": [
              "{'loss': [0.5755024552345276,\n",
              "  0.5601483583450317,\n",
              "  0.5605133771896362,\n",
              "  0.5339174270629883,\n",
              "  0.528952956199646,\n",
              "  0.5298839807510376,\n",
              "  0.5138298869132996,\n",
              "  0.5178110003471375,\n",
              "  0.5098416805267334,\n",
              "  0.49681875109672546,\n",
              "  0.4921988248825073,\n",
              "  0.49482738971710205,\n",
              "  0.4817635715007782,\n",
              "  0.47713595628738403,\n",
              "  0.48350951075553894],\n",
              " 'accuracy': [0.8266071677207947,\n",
              "  0.8344643115997314,\n",
              "  0.8322142958641052,\n",
              "  0.8431428670883179,\n",
              "  0.8438571691513062,\n",
              "  0.8417321443557739,\n",
              "  0.8476071357727051,\n",
              "  0.8460000157356262,\n",
              "  0.8469464182853699,\n",
              "  0.8538214564323425,\n",
              "  0.8550357222557068,\n",
              "  0.8525893092155457,\n",
              "  0.8566785454750061,\n",
              "  0.8573750257492065,\n",
              "  0.8548571467399597]}"
            ]
          },
          "metadata": {},
          "execution_count": 109
        }
      ]
    },
    {
      "cell_type": "code",
      "source": [
        "_ = sns.lineplot(y=history.history['loss'], x=range(15))\n",
        "_ = plt.title(\"Loss over epochs\")"
      ],
      "metadata": {
        "colab": {
          "base_uri": "https://localhost:8080/",
          "height": 284
        },
        "id": "UBzSNcnmdyea",
        "outputId": "e984109d-ce35-4c9a-9c12-2fc5c386a86a"
      },
      "execution_count": null,
      "outputs": [
        {
          "output_type": "display_data",
          "data": {
            "text/plain": [
              "<Figure size 432x288 with 1 Axes>"
            ],
            "image/png": "[encoded data removed]"
          },
          "metadata": {}
        }
      ]
    },
    {
      "cell_type": "code",
      "source": [
        "_ = sns.lineplot(y=history.history['accuracy'], x=range(15))\n",
        "_ = plt.title(\"Accuracy over epochs\")"
      ],
      "metadata": {
        "colab": {
          "base_uri": "https://localhost:8080/",
          "height": 284
        },
        "id": "CWh-tdVfePMH",
        "outputId": "748ef270-f1e6-4fa0-f995-9424ccc7f9bf"
      },
      "execution_count": null,
      "outputs": [
        {
          "output_type": "display_data",
          "data": {
            "text/plain": [
              "<Figure size 432x288 with 1 Axes>"
            ],
            "image/png": "[encoded data removed]"
          },
          "metadata": {}
        }
      ]
    }
  ]
}