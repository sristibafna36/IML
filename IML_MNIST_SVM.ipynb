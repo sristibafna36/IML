{
  "cells": [
    {
      "cell_type": "code",
      "execution_count": null,
      "metadata": {
        "id": "JucPmEfMiGZv"
      },
      "outputs": [],
      "source": [
        "# importing modules\n",
        "import numpy as np\n",
        "import pandas as pd\n",
        "import matplotlib.pyplot as plt\n",
        "import seaborn as sns\n",
        "from sklearn import metrics\n",
        "from sklearn.svm import SVC\n",
        "from sklearn.metrics import confusion_matrix\n",
        "from sklearn.preprocessing import scale\n",
        "from sklearn.utils._testing import ignore_warnings\n",
        "from sklearn.exceptions import ConvergenceWarning\n",
        "from sklearn.model_selection import train_test_split\n",
        "from sklearn.model_selection import validation_curve\n",
        "from sklearn.model_selection import KFold\n",
        "from sklearn.model_selection import cross_val_score\n",
        "from sklearn.model_selection import GridSearchCV"
      ]
    },
    {
      "cell_type": "code",
      "execution_count": null,
      "metadata": {
        "id": "PjEx80sxjZxN"
      },
      "outputs": [],
      "source": [
        "# importing data\n",
        "test = pd.read_csv(\"test.csv\")\n",
        "train = pd.read_csv(\"train.csv\")\n",
        "\n",
        "# test's dimensions are (1155, 785) and train's dimensions are (574, 785)"
      ]
    },
    {
      "cell_type": "code",
      "execution_count": null,
      "metadata": {
        "colab": {
          "base_uri": "https://localhost:8080/",
          "height": 575
        },
        "id": "Mpx3z77_mnyb",
        "outputId": "1d186a22-6b54-4036-bd8f-11a8bd1b374f"
      },
      "outputs": [
        {
          "output_type": "stream",
          "name": "stderr",
          "text": [
            "/usr/local/lib/python3.8/dist-packages/seaborn/_decorators.py:36: FutureWarning: Pass the following variable as a keyword arg: x. From version 0.12, the only valid positional argument will be `data`, and passing other arguments without an explicit keyword will result in an error or misinterpretation.\n",
            "  warnings.warn(\n",
            "/usr/local/lib/python3.8/dist-packages/seaborn/_decorators.py:36: FutureWarning: Pass the following variable as a keyword arg: x. From version 0.12, the only valid positional argument will be `data`, and passing other arguments without an explicit keyword will result in an error or misinterpretation.\n",
            "  warnings.warn(\n"
          ]
        },
        {
          "output_type": "execute_result",
          "data": {
            "text/plain": [
              "2    143\n",
              "7    122\n",
              "4    117\n",
              "0    116\n",
              "9    111\n",
              "6    109\n",
              "8    109\n",
              "1    108\n",
              "5    105\n",
              "3    102\n",
              "Name: label, dtype: int64"
            ]
          },
          "metadata": {},
          "execution_count": 4
        },
        {
          "output_type": "display_data",
          "data": {
            "text/plain": [
              "<Figure size 432x288 with 1 Axes>"
            ],
            "image/png": "[encoded data removed]"
          },
          "metadata": {
            "needs_background": "light"
          }
        }
      ],
      "source": [
        "# visualizing no of classes + counts\n",
        "sns.countplot(train[\"label\"])\n",
        "\n",
        "plt.plot(figure = (10,10))\n",
        "g = sns.countplot( train[\"label\"], palette = 'rocket')\n",
        "plt.title('No. of digit classes')\n",
        "train.label.astype('category').value_counts()"
      ]
    },
    {
      "cell_type": "code",
      "execution_count": null,
      "metadata": {
        "id": "UGP1cMxrs26B",
        "colab": {
          "base_uri": "https://localhost:8080/"
        },
        "outputId": "e990a687-5ff6-4ded-fc73-93b563bb9f0b"
      },
      "outputs": [
        {
          "output_type": "stream",
          "name": "stdout",
          "text": [
            "x: (1142, 784)\n",
            "test_data: (571, 784)\n"
          ]
        }
      ],
      "source": [
        "# rescaling data + normalizing it\n",
        "x = train.drop(columns = 'label')\n",
        "y = train['label']\n",
        "\n",
        "x = x/255.0\n",
        "test = test/255.0\n",
        "\n",
        "print(\"x:\", x.shape)\n",
        "print(\"test_data:\", test.shape)"
      ]
    },
    {
      "cell_type": "code",
      "execution_count": null,
      "metadata": {
        "id": "-oe7l578wzUk"
      },
      "outputs": [],
      "source": [
        "# scaling + train test split\n",
        "x_scaled = scale(x)\n",
        "\n",
        "x_train, x_test, y_train, y_test = train_test_split(x_scaled, y, test_size = 0.3, train_size = 0.2 ,random_state = 10)"
      ]
    },
    {
      "cell_type": "code",
      "execution_count": null,
      "metadata": {
        "id": "V7pobwFF2Wbg"
      },
      "outputs": [],
      "source": [
        "# building a non-linear model\n",
        "model_nl = SVC(kernel='rbf')\n",
        "model_nl.fit(x_train, y_train)\n",
        "y_pred = model_nl.predict(x_test)"
      ]
    },
    {
      "cell_type": "code",
      "execution_count": null,
      "metadata": {
        "id": "hkRHu9Qt26xL",
        "colab": {
          "base_uri": "https://localhost:8080/"
        },
        "outputId": "1537327f-d8a2-4d3d-9449-cd55f94a26dc"
      },
      "outputs": [
        {
          "output_type": "stream",
          "name": "stdout",
          "text": [
            "A non-linear model's accuracy is: \n",
            "0.7259475218658892\n",
            "[[30  0  1  0  0  0  0  0  0  0]\n",
            " [ 0 20  2  0  0  0  0  0  1  0]\n",
            " [ 0  0 40  0  0  0  0  0  2  0]\n",
            " [ 0  1  8 20  0  1  0  0  5  0]\n",
            " [ 0  0  4  0 29  0  0  0  0  1]\n",
            " [ 0  1  9  1  1 11  1  0 10  0]\n",
            " [ 1  0  2  0  0  0 23  0  1  0]\n",
            " [ 0  3 10  0  1  0  0 32  1  2]\n",
            " [ 0  1  1  0  0  0  0  0 27  1]\n",
            " [ 0  1  3  0  6  0  0 11  0 17]]\n"
          ]
        }
      ],
      "source": [
        "# confusion matrix + model accuracy\n",
        "print(\"A non-linear model's accuracy is: \")\n",
        "print(metrics.accuracy_score(y_true=y_test, y_pred=y_pred))\n",
        "print(metrics.confusion_matrix(y_true=y_test, y_pred=y_pred))"
      ]
    },
    {
      "cell_type": "code",
      "execution_count": null,
      "metadata": {
        "id": "rn8GRygI3dxA",
        "colab": {
          "base_uri": "https://localhost:8080/",
          "height": 518
        },
        "outputId": "8abf70c9-6fb9-42f5-afe6-e05ca58b3751"
      },
      "outputs": [
        {
          "output_type": "display_data",
          "data": {
            "text/plain": [
              "<Figure size 720x576 with 2 Axes>"
            ],
            "image/png": "[encoded data removed]"
          },
          "metadata": {}
        }
      ],
      "source": [
        "# visualising the confusion matrix\n",
        "cm = confusion_matrix(y_test, y_pred)\n",
        "sns.set(rc={'figure.figsize':(10, 8)})\n",
        "cm = sns.heatmap(cm, annot=True, cmap='Blues', fmt='g')\n",
        "\n",
        "_ = cm.set_ylabel('True label')\n",
        "_ = cm.set_xlabel('Predicted label')\n",
        "_ = cm.set_title(\"Confusion Matrix for Test Data (Non-Linear Model)\")"
      ]
    },
    {
      "cell_type": "markdown",
      "metadata": {
        "id": "PVB9g2ct4azj"
      },
      "source": [
        "A non-linear model's accuracy is 89%."
      ]
    },
    {
      "cell_type": "code",
      "execution_count": null,
      "metadata": {
        "id": "dMHuMoxN4lKK",
        "colab": {
          "base_uri": "https://localhost:8080/"
        },
        "outputId": "751e691a-d458-4ce2-f63f-edead6c41c62"
      },
      "outputs": [
        {
          "output_type": "stream",
          "name": "stdout",
          "text": [
            "Fitting 5 folds for each of 6 candidates, totalling 30 fits\n"
          ]
        },
        {
          "output_type": "execute_result",
          "data": {
            "text/plain": [
              "GridSearchCV(cv=KFold(n_splits=5, random_state=10, shuffle=True),\n",
              "             estimator=SVC(),\n",
              "             param_grid=[{'C': [5, 10], 'gamma': [0.01, 0.001, 0.0001]}],\n",
              "             return_train_score=True, scoring='accuracy', verbose=1)"
            ]
          },
          "metadata": {},
          "execution_count": 11
        }
      ],
      "source": [
        "# hyperparameter tuning of the non-linear model\n",
        "\n",
        "# 5 fold cross-validation\n",
        "folds = KFold(n_splits = 5, shuffle = True, random_state = 10)\n",
        "hyper_params = [ {'gamma': [1e-2, 1e-3, 1e-4],\n",
        "                     'C': [5,10]}]\n",
        "\n",
        "# non-linear model\n",
        "model = SVC(kernel=\"rbf\")\n",
        "model_cv = GridSearchCV(estimator = model,\n",
        "                        param_grid = hyper_params,\n",
        "                        scoring= 'accuracy',\n",
        "                        cv = folds,\n",
        "                        verbose = 1,\n",
        "                        return_train_score=True)\n",
        "\n",
        "# fit the model\n",
        "model_cv.fit(x_train, y_train)"
      ]
    },
    {
      "cell_type": "code",
      "execution_count": null,
      "metadata": {
        "id": "OtzkqIKK50f4",
        "colab": {
          "base_uri": "https://localhost:8080/",
          "height": 539
        },
        "outputId": "59e8f18c-0373-4084-91ba-78eb78758d29"
      },
      "outputs": [
        {
          "output_type": "execute_result",
          "data": {
            "text/plain": [
              "   mean_fit_time  std_fit_time  mean_score_time  std_score_time param_C  \\\n",
              "0       0.020473      0.002333         0.005791        0.000846       5   \n",
              "1       0.018038      0.002296         0.006375        0.002092       5   \n",
              "2       0.014805      0.000626         0.006121        0.001728       5   \n",
              "3       0.017989      0.000249         0.005336        0.000077      10   \n",
              "4       0.019742      0.004722         0.005898        0.001250      10   \n",
              "5       0.014612      0.000955         0.005758        0.001025      10   \n",
              "\n",
              "  param_gamma                      params  split0_test_score  \\\n",
              "0        0.01     {'C': 5, 'gamma': 0.01}           0.304348   \n",
              "1       0.001    {'C': 5, 'gamma': 0.001}           0.826087   \n",
              "2      0.0001   {'C': 5, 'gamma': 0.0001}           0.652174   \n",
              "3        0.01    {'C': 10, 'gamma': 0.01}           0.304348   \n",
              "4       0.001   {'C': 10, 'gamma': 0.001}           0.826087   \n",
              "5      0.0001  {'C': 10, 'gamma': 0.0001}           0.760870   \n",
              "\n",
              "   split1_test_score  split2_test_score  ...  mean_test_score  std_test_score  \\\n",
              "0           0.260870           0.260870  ...         0.289662        0.036727   \n",
              "1           0.739130           0.695652  ...         0.763285        0.043639   \n",
              "2           0.652174           0.652174  ...         0.689082        0.045746   \n",
              "3           0.260870           0.260870  ...         0.289662        0.036727   \n",
              "4           0.739130           0.695652  ...         0.767729        0.045959   \n",
              "5           0.760870           0.652174  ...         0.737005        0.044747   \n",
              "\n",
              "   rank_test_score  split0_train_score  split1_train_score  \\\n",
              "0                5            1.000000            1.000000   \n",
              "1                2            1.000000            1.000000   \n",
              "2                4            0.851648            0.879121   \n",
              "3                5            1.000000            1.000000   \n",
              "4                1            1.000000            1.000000   \n",
              "5                3            0.967033            0.950549   \n",
              "\n",
              "   split2_train_score  split3_train_score  split4_train_score  \\\n",
              "0            1.000000            1.000000            1.000000   \n",
              "1            1.000000            1.000000            1.000000   \n",
              "2            0.857143            0.874317            0.885246   \n",
              "3            1.000000            1.000000            1.000000   \n",
              "4            1.000000            1.000000            1.000000   \n",
              "5            0.983516            0.961749            0.961749   \n",
              "\n",
              "   mean_train_score  std_train_score  \n",
              "0          1.000000         0.000000  \n",
              "1          1.000000         0.000000  \n",
              "2          0.869495         0.012923  \n",
              "3          1.000000         0.000000  \n",
              "4          1.000000         0.000000  \n",
              "5          0.964919         0.010742  \n",
              "\n",
              "[6 rows x 22 columns]"
            ],
            "text/html": [
              "\n",
              "  <div id=\"df-41c6ec45-c27f-46b5-99c2-c42720502c8d\">\n",
              "    <div class=\"colab-df-container\">\n",
              "      <div>\n",
              "<style scoped>\n",
              "    .dataframe tbody tr th:only-of-type {\n",
              "        vertical-align: middle;\n",
              "    }\n",
              "\n",
              "    .dataframe tbody tr th {\n",
              "        vertical-align: top;\n",
              "    }\n",
              "\n",
              "    .dataframe thead th {\n",
              "        text-align: right;\n",
              "    }\n",
              "</style>\n",
              "<table border=\"1\" class=\"dataframe\">\n",
              "  <thead>\n",
              "    <tr style=\"text-align: right;\">\n",
              "      <th></th>\n",
              "      <th>mean_fit_time</th>\n",
              "      <th>std_fit_time</th>\n",
              "      <th>mean_score_time</th>\n",
              "      <th>std_score_time</th>\n",
              "      <th>param_C</th>\n",
              "      <th>param_gamma</th>\n",
              "      <th>params</th>\n",
              "      <th>split0_test_score</th>\n",
              "      <th>split1_test_score</th>\n",
              "      <th>split2_test_score</th>\n",
              "      <th>...</th>\n",
              "      <th>mean_test_score</th>\n",
              "      <th>std_test_score</th>\n",
              "      <th>rank_test_score</th>\n",
              "      <th>split0_train_score</th>\n",
              "      <th>split1_train_score</th>\n",
              "      <th>split2_train_score</th>\n",
              "      <th>split3_train_score</th>\n",
              "      <th>split4_train_score</th>\n",
              "      <th>mean_train_score</th>\n",
              "      <th>std_train_score</th>\n",
              "    </tr>\n",
              "  </thead>\n",
              "  <tbody>\n",
              "    <tr>\n",
              "      <th>0</th>\n",
              "      <td>0.020473</td>\n",
              "      <td>0.002333</td>\n",
              "      <td>0.005791</td>\n",
              "      <td>0.000846</td>\n",
              "      <td>5</td>\n",
              "      <td>0.01</td>\n",
              "      <td>{'C': 5, 'gamma': 0.01}</td>\n",
              "      <td>0.304348</td>\n",
              "      <td>0.260870</td>\n",
              "      <td>0.260870</td>\n",
              "      <td>...</td>\n",
              "      <td>0.289662</td>\n",
              "      <td>0.036727</td>\n",
              "      <td>5</td>\n",
              "      <td>1.000000</td>\n",
              "      <td>1.000000</td>\n",
              "      <td>1.000000</td>\n",
              "      <td>1.000000</td>\n",
              "      <td>1.000000</td>\n",
              "      <td>1.000000</td>\n",
              "      <td>0.000000</td>\n",
              "    </tr>\n",
              "    <tr>\n",
              "      <th>1</th>\n",
              "      <td>0.018038</td>\n",
              "      <td>0.002296</td>\n",
              "      <td>0.006375</td>\n",
              "      <td>0.002092</td>\n",
              "      <td>5</td>\n",
              "      <td>0.001</td>\n",
              "      <td>{'C': 5, 'gamma': 0.001}</td>\n",
              "      <td>0.826087</td>\n",
              "      <td>0.739130</td>\n",
              "      <td>0.695652</td>\n",
              "      <td>...</td>\n",
              "      <td>0.763285</td>\n",
              "      <td>0.043639</td>\n",
              "      <td>2</td>\n",
              "      <td>1.000000</td>\n",
              "      <td>1.000000</td>\n",
              "      <td>1.000000</td>\n",
              "      <td>1.000000</td>\n",
              "      <td>1.000000</td>\n",
              "      <td>1.000000</td>\n",
              "      <td>0.000000</td>\n",
              "    </tr>\n",
              "    <tr>\n",
              "      <th>2</th>\n",
              "      <td>0.014805</td>\n",
              "      <td>0.000626</td>\n",
              "      <td>0.006121</td>\n",
              "      <td>0.001728</td>\n",
              "      <td>5</td>\n",
              "      <td>0.0001</td>\n",
              "      <td>{'C': 5, 'gamma': 0.0001}</td>\n",
              "      <td>0.652174</td>\n",
              "      <td>0.652174</td>\n",
              "      <td>0.652174</td>\n",
              "      <td>...</td>\n",
              "      <td>0.689082</td>\n",
              "      <td>0.045746</td>\n",
              "      <td>4</td>\n",
              "      <td>0.851648</td>\n",
              "      <td>0.879121</td>\n",
              "      <td>0.857143</td>\n",
              "      <td>0.874317</td>\n",
              "      <td>0.885246</td>\n",
              "      <td>0.869495</td>\n",
              "      <td>0.012923</td>\n",
              "    </tr>\n",
              "    <tr>\n",
              "      <th>3</th>\n",
              "      <td>0.017989</td>\n",
              "      <td>0.000249</td>\n",
              "      <td>0.005336</td>\n",
              "      <td>0.000077</td>\n",
              "      <td>10</td>\n",
              "      <td>0.01</td>\n",
              "      <td>{'C': 10, 'gamma': 0.01}</td>\n",
              "      <td>0.304348</td>\n",
              "      <td>0.260870</td>\n",
              "      <td>0.260870</td>\n",
              "      <td>...</td>\n",
              "      <td>0.289662</td>\n",
              "      <td>0.036727</td>\n",
              "      <td>5</td>\n",
              "      <td>1.000000</td>\n",
              "      <td>1.000000</td>\n",
              "      <td>1.000000</td>\n",
              "      <td>1.000000</td>\n",
              "      <td>1.000000</td>\n",
              "      <td>1.000000</td>\n",
              "      <td>0.000000</td>\n",
              "    </tr>\n",
              "    <tr>\n",
              "      <th>4</th>\n",
              "      <td>0.019742</td>\n",
              "      <td>0.004722</td>\n",
              "      <td>0.005898</td>\n",
              "      <td>0.001250</td>\n",
              "      <td>10</td>\n",
              "      <td>0.001</td>\n",
              "      <td>{'C': 10, 'gamma': 0.001}</td>\n",
              "      <td>0.826087</td>\n",
              "      <td>0.739130</td>\n",
              "      <td>0.695652</td>\n",
              "      <td>...</td>\n",
              "      <td>0.767729</td>\n",
              "      <td>0.045959</td>\n",
              "      <td>1</td>\n",
              "      <td>1.000000</td>\n",
              "      <td>1.000000</td>\n",
              "      <td>1.000000</td>\n",
              "      <td>1.000000</td>\n",
              "      <td>1.000000</td>\n",
              "      <td>1.000000</td>\n",
              "      <td>0.000000</td>\n",
              "    </tr>\n",
              "    <tr>\n",
              "      <th>5</th>\n",
              "      <td>0.014612</td>\n",
              "      <td>0.000955</td>\n",
              "      <td>0.005758</td>\n",
              "      <td>0.001025</td>\n",
              "      <td>10</td>\n",
              "      <td>0.0001</td>\n",
              "      <td>{'C': 10, 'gamma': 0.0001}</td>\n",
              "      <td>0.760870</td>\n",
              "      <td>0.760870</td>\n",
              "      <td>0.652174</td>\n",
              "      <td>...</td>\n",
              "      <td>0.737005</td>\n",
              "      <td>0.044747</td>\n",
              "      <td>3</td>\n",
              "      <td>0.967033</td>\n",
              "      <td>0.950549</td>\n",
              "      <td>0.983516</td>\n",
              "      <td>0.961749</td>\n",
              "      <td>0.961749</td>\n",
              "      <td>0.964919</td>\n",
              "      <td>0.010742</td>\n",
              "    </tr>\n",
              "  </tbody>\n",
              "</table>\n",
              "<p>6 rows × 22 columns</p>\n",
              "</div>\n",
              "      <button class=\"colab-df-convert\" onclick=\"convertToInteractive('df-41c6ec45-c27f-46b5-99c2-c42720502c8d')\"\n",
              "              title=\"Convert this dataframe to an interactive table.\"\n",
              "              style=\"display:none;\">\n",
              "        \n",
              "  <svg xmlns=\"http://www.w3.org/2000/svg\" height=\"24px\"viewBox=\"0 0 24 24\"\n",
              "       width=\"24px\">\n",
              "    <path d=\"M0 0h24v24H0V0z\" fill=\"none\"/>\n",
              "    <path d=\"M18.56 5.44l.94 2.06.94-2.06 2.06-.94-2.06-.94-.94-2.06-.94 2.06-2.06.94zm-11 1L8.5 8.5l.94-2.06 2.06-.94-2.06-.94L8.5 2.5l-.94 2.06-2.06.94zm10 10l.94 2.06.94-2.06 2.06-.94-2.06-.94-.94-2.06-.94 2.06-2.06.94z\"/><path d=\"M17.41 7.96l-1.37-1.37c-.4-.4-.92-.59-1.43-.59-.52 0-1.04.2-1.43.59L10.3 9.45l-7.72 7.72c-.78.78-.78 2.05 0 2.83L4 21.41c.39.39.9.59 1.41.59.51 0 1.02-.2 1.41-.59l7.78-7.78 2.81-2.81c.8-.78.8-2.07 0-2.86zM5.41 20L4 18.59l7.72-7.72 1.47 1.35L5.41 20z\"/>\n",
              "  </svg>\n",
              "      </button>\n",
              "      \n",
              "  <style>\n",
              "    .colab-df-container {\n",
              "      display:flex;\n",
              "      flex-wrap:wrap;\n",
              "      gap: 12px;\n",
              "    }\n",
              "\n",
              "    .colab-df-convert {\n",
              "      background-color: #E8F0FE;\n",
              "      border: none;\n",
              "      border-radius: 50%;\n",
              "      cursor: pointer;\n",
              "      display: none;\n",
              "      fill: #1967D2;\n",
              "      height: 32px;\n",
              "      padding: 0 0 0 0;\n",
              "      width: 32px;\n",
              "    }\n",
              "\n",
              "    .colab-df-convert:hover {\n",
              "      background-color: #E2EBFA;\n",
              "      box-shadow: 0px 1px 2px rgba(60, 64, 67, 0.3), 0px 1px 3px 1px rgba(60, 64, 67, 0.15);\n",
              "      fill: #174EA6;\n",
              "    }\n",
              "\n",
              "    [theme=dark] .colab-df-convert {\n",
              "      background-color: #3B4455;\n",
              "      fill: #D2E3FC;\n",
              "    }\n",
              "\n",
              "    [theme=dark] .colab-df-convert:hover {\n",
              "      background-color: #434B5C;\n",
              "      box-shadow: 0px 1px 3px 1px rgba(0, 0, 0, 0.15);\n",
              "      filter: drop-shadow(0px 1px 2px rgba(0, 0, 0, 0.3));\n",
              "      fill: #FFFFFF;\n",
              "    }\n",
              "  </style>\n",
              "\n",
              "      <script>\n",
              "        const buttonEl =\n",
              "          document.querySelector('#df-41c6ec45-c27f-46b5-99c2-c42720502c8d button.colab-df-convert');\n",
              "        buttonEl.style.display =\n",
              "          google.colab.kernel.accessAllowed ? 'block' : 'none';\n",
              "\n",
              "        async function convertToInteractive(key) {\n",
              "          const element = document.querySelector('#df-41c6ec45-c27f-46b5-99c2-c42720502c8d');\n",
              "          const dataTable =\n",
              "            await google.colab.kernel.invokeFunction('convertToInteractive',\n",
              "                                                     [key], {});\n",
              "          if (!dataTable) return;\n",
              "\n",
              "          const docLinkHtml = 'Like what you see? Visit the ' +\n",
              "            '<a target=\"_blank\" href=https://colab.research.google.com/notebooks/data_table.ipynb>data table notebook</a>'\n",
              "            + ' to learn more about interactive tables.';\n",
              "          element.innerHTML = '';\n",
              "          dataTable['output_type'] = 'display_data';\n",
              "          await google.colab.output.renderOutput(dataTable, element);\n",
              "          const docLink = document.createElement('div');\n",
              "          docLink.innerHTML = docLinkHtml;\n",
              "          element.appendChild(docLink);\n",
              "        }\n",
              "      </script>\n",
              "    </div>\n",
              "  </div>\n",
              "  "
            ]
          },
          "metadata": {},
          "execution_count": 12
        }
      ],
      "source": [
        "cv_results = pd.DataFrame(model_cv.cv_results_)\n",
        "cv_results"
      ]
    },
    {
      "cell_type": "code",
      "source": [
        "svm = SVC(kernel=\"rbf\")\n",
        "scores = cross_val_score(svm, x_train, y_train, cv=5, scoring='accuracy')"
      ],
      "metadata": {
        "id": "GUnRNNr4icnn"
      },
      "execution_count": null,
      "outputs": []
    },
    {
      "cell_type": "code",
      "source": [
        "scores"
      ],
      "metadata": {
        "colab": {
          "base_uri": "https://localhost:8080/"
        },
        "id": "PX0ZPmczmC2l",
        "outputId": "e0c41adf-6417-4b5b-b296-4d4243c98ae7"
      },
      "execution_count": null,
      "outputs": [
        {
          "output_type": "execute_result",
          "data": {
            "text/plain": [
              "array([0.7173913 , 0.73913043, 0.73913043, 0.55555556, 0.75555556])"
            ]
          },
          "metadata": {},
          "execution_count": 27
        }
      ]
    },
    {
      "cell_type": "code",
      "source": [
        "sns.set()\n",
        "\n",
        "bar = sns.barplot(x=['split0_test_score', 'split1_test_score', 'split2_test_score', 'split3_test_score', 'split4_test_score'],y=scores)\n",
        "bar.set_ylim([0.5, 1])\n",
        "bar.set_title(\"5-fold Cross Validation on MNIST Dataset\")\n",
        "bar.set_ylabel(\"Accuracy\")\n",
        "_= bar.set_xlabel(\"Fold Index\")"
      ],
      "metadata": {
        "colab": {
          "base_uri": "https://localhost:8080/",
          "height": 465
        },
        "id": "CHbl88v8mEXg",
        "outputId": "661443a9-e32b-4a43-e9ff-2452b0000719"
      },
      "execution_count": null,
      "outputs": [
        {
          "output_type": "display_data",
          "data": {
            "text/plain": [
              "<Figure size 648x504 with 1 Axes>"
            ],
            "image/png": "[encoded data removed]"
          },
          "metadata": {}
        }
      ]
    },
    {
      "cell_type": "code",
      "execution_count": null,
      "metadata": {
        "id": "0ujrghQS55gv",
        "colab": {
          "base_uri": "https://localhost:8080/",
          "height": 525
        },
        "outputId": "2434dec4-f632-49fc-d3ec-956cef432463"
      },
      "outputs": [
        {
          "output_type": "display_data",
          "data": {
            "text/plain": [
              "<Figure size 1152x576 with 3 Axes>"
            ],
            "image/png": "[encoded data removed]"
          },
          "metadata": {}
        }
      ],
      "source": [
        "# choosing optimal gamma\n",
        "cv_results['param_C'] = cv_results['param_C'].astype('int')\n",
        "\n",
        "# plotting\n",
        "plt.figure(figsize=(16,8))\n",
        "plt.subplot(131)\n",
        "\n",
        "# plot 1/3\n",
        "gamma_01 = cv_results[cv_results['param_gamma']==0.01]\n",
        "\n",
        "plt.plot(gamma_01[\"param_C\"], gamma_01[\"mean_test_score\"])\n",
        "plt.plot(gamma_01[\"param_C\"], gamma_01[\"mean_train_score\"])\n",
        "plt.xlabel('C')\n",
        "plt.ylabel('Accuracy')\n",
        "plt.title(\"Gamma=0.01\")\n",
        "plt.ylim([0.60, 1])\n",
        "plt.legend(['test accuracy', 'train accuracy'], loc='upper left')\n",
        "plt.xscale('log')\n",
        "\n",
        "# plot 2/3\n",
        "plt.subplot(132)\n",
        "gamma_001 = cv_results[cv_results['param_gamma']==0.001]\n",
        "\n",
        "plt.plot(gamma_001[\"param_C\"], gamma_001[\"mean_test_score\"])\n",
        "plt.plot(gamma_001[\"param_C\"], gamma_001[\"mean_train_score\"])\n",
        "plt.xlabel('C')\n",
        "plt.ylabel('Accuracy')\n",
        "plt.title(\"Gamma=0.001\")\n",
        "plt.ylim([0.60, 1])\n",
        "plt.legend(['test accuracy', 'train accuracy'], loc='upper left')\n",
        "plt.xscale('log')\n",
        "\n",
        "\n",
        "# plot 3/3\n",
        "plt.subplot(133)\n",
        "gamma_0001 = cv_results[cv_results['param_gamma']==0.0001]\n",
        "\n",
        "plt.plot(gamma_0001[\"param_C\"], gamma_0001[\"mean_test_score\"])\n",
        "plt.plot(gamma_0001[\"param_C\"], gamma_0001[\"mean_train_score\"])\n",
        "plt.xlabel('C')\n",
        "plt.ylabel('Accuracy')\n",
        "plt.title(\"Gamma=0.0001\")\n",
        "plt.ylim([0.60, 1])\n",
        "plt.legend(['test accuracy', 'train accuracy'], loc='upper left')\n",
        "plt.xscale('log')"
      ]
    },
    {
      "cell_type": "code",
      "source": [
        "# checking for optimal c and gamma\n",
        "\n",
        "best_score = model_cv.best_score_\n",
        "best_hyperparams = model_cv.best_params_\n",
        "\n",
        "print(\"The best test score is {0} corresponding to hyperparameters {1}\".format(best_score, best_hyperparams))"
      ],
      "metadata": {
        "id": "2LuGK0l9H9LU",
        "colab": {
          "base_uri": "https://localhost:8080/"
        },
        "outputId": "29aa08d2-134d-4e70-ae8a-acea831f89bd"
      },
      "execution_count": null,
      "outputs": [
        {
          "output_type": "stream",
          "name": "stdout",
          "text": [
            "The best test score is 0.7677294685990338 corresponding to hyperparameters {'C': 10, 'gamma': 0.001}\n"
          ]
        }
      ]
    },
    {
      "cell_type": "code",
      "source": [
        "# final model\n",
        "final = SVC(C=10, gamma=0.001, kernel=\"rbf\")\n",
        "final.fit(x_train, y_train)\n",
        "y_pred = final.predict(x_test)\n",
        "\n",
        "print(\"Accuracy: \", metrics.accuracy_score(y_test, y_pred), \"\\n\")\n",
        "print(metrics.confusion_matrix(y_test, y_pred), \"\\n\")"
      ],
      "metadata": {
        "id": "72k4bqpIIN_7",
        "colab": {
          "base_uri": "https://localhost:8080/"
        },
        "outputId": "227e97d1-7ae5-4113-e103-82c7fc0543be"
      },
      "execution_count": null,
      "outputs": [
        {
          "output_type": "stream",
          "name": "stdout",
          "text": [
            "Accuracy:  0.7900874635568513 \n",
            "\n",
            "[[30  0  1  0  0  0  0  0  0  0]\n",
            " [ 0 20  1  0  0  0  1  0  1  0]\n",
            " [ 0  0 38  1  0  0  0  0  3  0]\n",
            " [ 0  0  3 29  0  1  0  0  1  1]\n",
            " [ 0  0  4  0 28  0  0  0  0  2]\n",
            " [ 0  1  4  1  0 22  1  0  5  0]\n",
            " [ 1  0  2  0  0  0 23  0  1  0]\n",
            " [ 0  2  8  0  1  0  0 35  1  2]\n",
            " [ 0  1  1  0  0  0  0  0 27  1]\n",
            " [ 0  1  2  0  6  0  0 10  0 19]] \n",
            "\n"
          ]
        }
      ]
    },
    {
      "cell_type": "code",
      "source": [
        "# visualising the confusion matrix\n",
        "cm = confusion_matrix(y_test, y_pred)\n",
        "sns.set(rc={'figure.figsize':(10, 8)})\n",
        "cm = sns.heatmap(cm, annot=True, fmt='g')\n",
        "\n",
        "_ = cm.set_ylabel('True label')\n",
        "_ = cm.set_xlabel('Predicted label')\n",
        "_ = cm.set_title(\"Confusion Matrix for Final Model\")"
      ],
      "metadata": {
        "id": "Luy8nMMIIon0",
        "colab": {
          "base_uri": "https://localhost:8080/",
          "height": 518
        },
        "outputId": "989ce226-0476-4712-b20d-496bbb151699"
      },
      "execution_count": null,
      "outputs": [
        {
          "output_type": "display_data",
          "data": {
            "text/plain": [
              "<Figure size 720x576 with 2 Axes>"
            ],
            "image/png": "[encoded data removed]"
          },
          "metadata": {}
        }
      ]
    }
  ],
  "metadata": {
    "colab": {
      "provenance": []
    },
    "kernelspec": {
      "display_name": "Python 3",
      "name": "python3"
    },
    "language_info": {
      "name": "python"
    }
  },
  "nbformat": 4,
  "nbformat_minor": 0
}